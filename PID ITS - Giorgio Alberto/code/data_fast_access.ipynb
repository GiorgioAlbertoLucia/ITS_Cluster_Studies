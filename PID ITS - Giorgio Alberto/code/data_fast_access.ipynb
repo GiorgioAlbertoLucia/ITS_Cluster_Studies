{
 "cells": [
  {
   "cell_type": "code",
   "execution_count": 1,
   "metadata": {},
   "outputs": [
    {
     "ename": "FileNotFoundError",
     "evalue": "[Errno 2] No such file or directory: '/Users/giogi/Desktop/Stage INFN/PID ITS/ITS_Cluster_Studies/PID ITS - Giorgio Alberto/code/configs/config.yml'",
     "output_type": "error",
     "traceback": [
      "\u001b[0;31m---------------------------------------------------------------------------\u001b[0m",
      "\u001b[0;31mFileNotFoundError\u001b[0m                         Traceback (most recent call last)",
      "\u001b[1;32m/home/galucia/PID_ITS/ITS_Cluster_Studies/PID ITS - Giorgio Alberto/code/data_fast_access.ipynb Cell 1\u001b[0m in \u001b[0;36m<cell line: 4>\u001b[0;34m()\u001b[0m\n\u001b[1;32m      <a href='vscode-notebook-cell://ssh-remote%2Bali50xl.to.infn.it/home/galucia/PID_ITS/ITS_Cluster_Studies/PID%20ITS%20-%20Giorgio%20Alberto/code/data_fast_access.ipynb#W0sdnNjb2RlLXJlbW90ZQ%3D%3D?line=0'>1</a>\u001b[0m \u001b[39mimport\u001b[39;00m \u001b[39mpandas\u001b[39;00m \u001b[39mas\u001b[39;00m \u001b[39mpd\u001b[39;00m\n\u001b[1;32m      <a href='vscode-notebook-cell://ssh-remote%2Bali50xl.to.infn.it/home/galucia/PID_ITS/ITS_Cluster_Studies/PID%20ITS%20-%20Giorgio%20Alberto/code/data_fast_access.ipynb#W0sdnNjb2RlLXJlbW90ZQ%3D%3D?line=1'>2</a>\u001b[0m \u001b[39mimport\u001b[39;00m \u001b[39myaml\u001b[39;00m\n\u001b[0;32m----> <a href='vscode-notebook-cell://ssh-remote%2Bali50xl.to.infn.it/home/galucia/PID_ITS/ITS_Cluster_Studies/PID%20ITS%20-%20Giorgio%20Alberto/code/data_fast_access.ipynb#W0sdnNjb2RlLXJlbW90ZQ%3D%3D?line=3'>4</a>\u001b[0m \u001b[39mwith\u001b[39;00m \u001b[39mopen\u001b[39;49m(\u001b[39m'\u001b[39;49m\u001b[39m/Users/giogi/Desktop/Stage INFN/PID ITS/ITS_Cluster_Studies/PID ITS - Giorgio Alberto/code/configs/config.yml\u001b[39;49m\u001b[39m'\u001b[39;49m) \u001b[39mas\u001b[39;00m f:\n\u001b[1;32m      <a href='vscode-notebook-cell://ssh-remote%2Bali50xl.to.infn.it/home/galucia/PID_ITS/ITS_Cluster_Studies/PID%20ITS%20-%20Giorgio%20Alberto/code/data_fast_access.ipynb#W0sdnNjb2RlLXJlbW90ZQ%3D%3D?line=4'>5</a>\u001b[0m     config \u001b[39m=\u001b[39m yaml\u001b[39m.\u001b[39mload(f, Loader\u001b[39m=\u001b[39myaml\u001b[39m.\u001b[39mFullLoader)\n\u001b[1;32m      <a href='vscode-notebook-cell://ssh-remote%2Bali50xl.to.infn.it/home/galucia/PID_ITS/ITS_Cluster_Studies/PID%20ITS%20-%20Giorgio%20Alberto/code/data_fast_access.ipynb#W0sdnNjb2RlLXJlbW90ZQ%3D%3D?line=6'>7</a>\u001b[0m path \u001b[39m=\u001b[39m config[\u001b[39m'\u001b[39m\u001b[39minput\u001b[39m\u001b[39m'\u001b[39m][\u001b[39m'\u001b[39m\u001b[39mdata\u001b[39m\u001b[39m'\u001b[39m]\n",
      "\u001b[0;31mFileNotFoundError\u001b[0m: [Errno 2] No such file or directory: '/Users/giogi/Desktop/Stage INFN/PID ITS/ITS_Cluster_Studies/PID ITS - Giorgio Alberto/code/configs/config.yml'"
     ]
    }
   ],
   "source": [
    "import pandas as pd\n",
    "import yaml\n",
    "\n",
    "with open('/Users/giogi/Desktop/Stage INFN/PID ITS/ITS_Cluster_Studies/PID ITS - Giorgio Alberto/code/configs/config.yml') as f:\n",
    "    config = yaml.load(f, Loader=yaml.FullLoader)\n",
    "\n",
    "path = config['input']['data']\n",
    "df = pd.read_parquet(path)\n",
    "\n",
    "df.columns"
   ]
  },
  {
   "cell_type": "code",
   "execution_count": 12,
   "metadata": {},
   "outputs": [
    {
     "name": "stdout",
     "output_type": "stream",
     "text": [
      "\n",
      "Dataframe 0\n",
      "meanClsize\n",
      "count    6788.000000\n",
      "mean        1.644372\n",
      "std         2.974294\n",
      "min        -3.714286\n",
      "25%        -1.428571\n",
      "50%         2.714286\n",
      "75%         4.000000\n",
      "max         9.857142\n",
      "Name: meanClsize, dtype: float64\n",
      "       ClSizeL0  ClSizeL1  ClSizeL2  ClSizeL3  ClSizeL4  ClSizeL5  ClSizeL6  \\\n",
      "count       0.0       0.0       0.0       0.0       0.0       0.0       0.0   \n",
      "mean        NaN       NaN       NaN       NaN       NaN       NaN       NaN   \n",
      "std         NaN       NaN       NaN       NaN       NaN       NaN       NaN   \n",
      "min         NaN       NaN       NaN       NaN       NaN       NaN       NaN   \n",
      "25%         NaN       NaN       NaN       NaN       NaN       NaN       NaN   \n",
      "50%         NaN       NaN       NaN       NaN       NaN       NaN       NaN   \n",
      "75%         NaN       NaN       NaN       NaN       NaN       NaN       NaN   \n",
      "max         NaN       NaN       NaN       NaN       NaN       NaN       NaN   \n",
      "\n",
      "       PattIDL0  PattIDL1  PattIDL2  ...  particle   pt  ptITS  ptTPC  rofBC  \\\n",
      "count       0.0       0.0       0.0  ...       0.0  0.0    0.0    0.0    0.0   \n",
      "mean        NaN       NaN       NaN  ...       NaN  NaN    NaN    NaN    NaN   \n",
      "std         NaN       NaN       NaN  ...       NaN  NaN    NaN    NaN    NaN   \n",
      "min         NaN       NaN       NaN  ...       NaN  NaN    NaN    NaN    NaN   \n",
      "25%         NaN       NaN       NaN  ...       NaN  NaN    NaN    NaN    NaN   \n",
      "50%         NaN       NaN       NaN  ...       NaN  NaN    NaN    NaN    NaN   \n",
      "75%         NaN       NaN       NaN  ...       NaN  NaN    NaN    NaN    NaN   \n",
      "max         NaN       NaN       NaN  ...       NaN  NaN    NaN    NaN    NaN   \n",
      "\n",
      "       tgL  tpcITSchi2  v0Ind  delta_p  meanClsize  \n",
      "count  0.0         0.0    0.0      0.0         0.0  \n",
      "mean   NaN         NaN    NaN      NaN         NaN  \n",
      "std    NaN         NaN    NaN      NaN         NaN  \n",
      "min    NaN         NaN    NaN      NaN         NaN  \n",
      "25%    NaN         NaN    NaN      NaN         NaN  \n",
      "50%    NaN         NaN    NaN      NaN         NaN  \n",
      "75%    NaN         NaN    NaN      NaN         NaN  \n",
      "max    NaN         NaN    NaN      NaN         NaN  \n",
      "\n",
      "[8 rows x 50 columns]\n",
      "\n",
      "Dataframe 1\n",
      "meanClsize\n",
      "count    73706.000000\n",
      "mean         1.315565\n",
      "std          2.298844\n",
      "min         -3.714286\n",
      "25%         -0.428571\n",
      "50%          2.285714\n",
      "75%          2.857143\n",
      "max         12.857142\n",
      "Name: meanClsize, dtype: float64\n",
      "         p   pt  tgL  meanClsize  dedx  nSigmaDeu  nSigmaP  nSigmaK  nSigmaPi  \\\n",
      "count  0.0  0.0  0.0         0.0   0.0        0.0      0.0      0.0       0.0   \n",
      "mean   NaN  NaN  NaN         NaN   NaN        NaN      NaN      NaN       NaN   \n",
      "std    NaN  NaN  NaN         NaN   NaN        NaN      NaN      NaN       NaN   \n",
      "min    NaN  NaN  NaN         NaN   NaN        NaN      NaN      NaN       NaN   \n",
      "25%    NaN  NaN  NaN         NaN   NaN        NaN      NaN      NaN       NaN   \n",
      "50%    NaN  NaN  NaN         NaN   NaN        NaN      NaN      NaN       NaN   \n",
      "75%    NaN  NaN  NaN         NaN   NaN        NaN      NaN      NaN       NaN   \n",
      "max    NaN  NaN  NaN         NaN   NaN        NaN      NaN      NaN       NaN   \n",
      "\n",
      "       tpcITSchi2  ...  PattIDL4  ClSizeL5  SnPhiL5  TanLamL5  PattIDL5  \\\n",
      "count         0.0  ...       0.0       0.0      0.0       0.0       0.0   \n",
      "mean          NaN  ...       NaN       NaN      NaN       NaN       NaN   \n",
      "std           NaN  ...       NaN       NaN      NaN       NaN       NaN   \n",
      "min           NaN  ...       NaN       NaN      NaN       NaN       NaN   \n",
      "25%           NaN  ...       NaN       NaN      NaN       NaN       NaN   \n",
      "50%           NaN  ...       NaN       NaN      NaN       NaN       NaN   \n",
      "75%           NaN  ...       NaN       NaN      NaN       NaN       NaN   \n",
      "max           NaN  ...       NaN       NaN      NaN       NaN       NaN   \n",
      "\n",
      "       ClSizeL6  SnPhiL6  TanLamL6  PattIDL6  nSigmaDeuAbs  \n",
      "count       0.0      0.0       0.0       0.0           0.0  \n",
      "mean        NaN      NaN       NaN       NaN           NaN  \n",
      "std         NaN      NaN       NaN       NaN           NaN  \n",
      "min         NaN      NaN       NaN       NaN           NaN  \n",
      "25%         NaN      NaN       NaN       NaN           NaN  \n",
      "50%         NaN      NaN       NaN       NaN           NaN  \n",
      "75%         NaN      NaN       NaN       NaN           NaN  \n",
      "max         NaN      NaN       NaN       NaN           NaN  \n",
      "\n",
      "[8 rows x 39 columns]\n"
     ]
    }
   ],
   "source": [
    "import pandas as pd\n",
    "path1 = '/data/shared/ITS/ML/particles_pid_520143.parquet'\n",
    "path2 = '/home/galucia/PID_ITS/data/TPC/Df_filtered_ITS2Cluster505673.parquet.gzip'\n",
    "\n",
    "pmin = 0.55\n",
    "pmax = 0.6\n",
    "\n",
    "df_1 = pd.read_parquet(path1)\n",
    "df_1.drop( df_1[df_1.particle == 4].index, inplace=True )\n",
    "\n",
    "df_2 = pd.read_parquet(path2)\n",
    "df_2.eval(f'nSigmaDeuAbs = abs(nSigmaDeu)', inplace=True)\n",
    "df_2.drop( df_2[df_2.nSigmaDeuAbs < 1].index, inplace=True )\n",
    "\n",
    "for i, df in enumerate([df_1, df_2]):\n",
    "    print(f'\\nDataframe {i}')\n",
    "    if i == 0:\n",
    "        df.eval('delta_p = (p - pTPC)/pTPC', inplace=True)\n",
    "        df.query('p <= 50 and 20 < rofBC < 500 and tpcITSchi2 < 5 and nClusTPC > 100 and -0.2 < delta_p < 0.2', inplace=True)\n",
    "    df.eval('meanClsize = (ClSizeL0 + ClSizeL1 + ClSizeL2 + ClSizeL3 + ClSizeL4 + ClSizeL5 + ClSizeL6)/7', inplace=True)\n",
    "    df.query(f'{pmin} <= p < {pmax}', inplace=True)\n",
    "    print('meanClsize')\n",
    "    print(df.meanClsize.describe())\n",
    "\n",
    "    for n in range(7):\n",
    "        df1 = df.query(f'ClSizeL{n} == 7')\n",
    "        print(f'\\nClSizeL{n}')\n",
    "        print(df1[f'ClSizeL{n}'].describe())\n"
   ]
  },
  {
   "cell_type": "code",
   "execution_count": 1,
   "metadata": {},
   "outputs": [
    {
     "data": {
      "text/plain": [
       "Index(['p', 'pt', 'pTPC', 'ptTPC', 'pITS', 'ptITS', 'rofBC', 'tgL',\n",
       "       'clSizeCosLam', 'dedx', 'nSigmaDeu', 'nSigmaP', 'nSigmaK', 'nSigmaPi',\n",
       "       'nSigmaE', 'tpcITSchi2', 'isPositive', 'nClusTPC', 'nClusITS',\n",
       "       'ClSizeL0', 'SnPhiL0', 'TanLamL0', 'PattIDL0', 'ClSizeL1', 'SnPhiL1',\n",
       "       'TanLamL1', 'PattIDL1', 'ClSizeL2', 'SnPhiL2', 'TanLamL2', 'PattIDL2',\n",
       "       'ClSizeL3', 'SnPhiL3', 'TanLamL3', 'PattIDL3', 'ClSizeL4', 'SnPhiL4',\n",
       "       'TanLamL4', 'PattIDL4', 'ClSizeL5', 'SnPhiL5', 'TanLamL5', 'PattIDL5',\n",
       "       'ClSizeL6', 'SnPhiL6', 'TanLamL6', 'PattIDL6', 'particle'],\n",
       "      dtype='object')"
      ]
     },
     "execution_count": 1,
     "metadata": {},
     "output_type": "execute_result"
    }
   ],
   "source": [
    "import pandas as pd\n",
    "path = '/data/shared/ITS/ML/particles_pid_520147_itstpc.parquet'\n",
    "df = pd.read_parquet(path)\n",
    "df.columns\n",
    "\n"
   ]
  },
  {
   "cell_type": "code",
   "execution_count": 2,
   "metadata": {},
   "outputs": [
    {
     "data": {
      "text/plain": [
       "<AxesSubplot:>"
      ]
     },
     "execution_count": 2,
     "metadata": {},
     "output_type": "execute_result"
    },
    {
     "data": {
      "image/png": "[encoded data removed]",
      "text/plain": [
       "<Figure size 432x288 with 1 Axes>"
      ]
     },
     "metadata": {
      "needs_background": "light"
     },
     "output_type": "display_data"
    }
   ],
   "source": [
    "import pandas as pd\n",
    "import matplotlib.pyplot as plt\n",
    "\n",
    "path = '/data/shared/ITS/ML/NEW/particles_pid_520143.parquet'\n",
    "df = pd.read_parquet(path)\n",
    "df.rofBC.hist(bins=100)\n"
   ]
  },
  {
   "cell_type": "code",
   "execution_count": null,
   "metadata": {},
   "outputs": [],
   "source": []
  }
 ],
 "metadata": {
  "kernelspec": {
   "display_name": "Python 3.8.10 ('hipe4ml')",
   "language": "python",
   "name": "python3"
  },
  "language_info": {
   "codemirror_mode": {
    "name": "ipython",
    "version": 3
   },
   "file_extension": ".py",
   "mimetype": "text/x-python",
   "name": "python",
   "nbconvert_exporter": "python",
   "pygments_lexer": "ipython3",
   "version": "3.8.10"
  },
  "orig_nbformat": 4,
  "vscode": {
   "interpreter": {
    "hash": "2c98ca086cee065dedf71aaa44750ac39ef036318904cf5f371f15708d468165"
   }
  }
 },
 "nbformat": 4,
 "nbformat_minor": 2
}
