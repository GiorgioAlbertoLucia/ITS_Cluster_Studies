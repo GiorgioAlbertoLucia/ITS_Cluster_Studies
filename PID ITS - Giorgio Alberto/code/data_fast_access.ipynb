{
 "cells": [
  {
   "cell_type": "code",
   "execution_count": 2,
   "metadata": {},
   "outputs": [
    {
     "data": {
      "text/plain": [
       "Index(['p', 'pt', 'tgL', 'meanClsize', 'dedx', 'nSigmaDeu', 'nSigmaP',\n",
       "       'nSigmaK', 'nSigmaPi', 'tpcITSchi2', 'ClSizeL0', 'SnPhiL0', 'TanLamL0',\n",
       "       'PattIDL0', 'ClSizeL1', 'SnPhiL1', 'TanLamL1', 'PattIDL1', 'ClSizeL2',\n",
       "       'SnPhiL2', 'TanLamL2', 'PattIDL2', 'ClSizeL3', 'SnPhiL3', 'TanLamL3',\n",
       "       'PattIDL3', 'ClSizeL4', 'SnPhiL4', 'TanLamL4', 'PattIDL4', 'ClSizeL5',\n",
       "       'SnPhiL5', 'TanLamL5', 'PattIDL5', 'ClSizeL6', 'SnPhiL6', 'TanLamL6',\n",
       "       'PattIDL6'],\n",
       "      dtype='object')"
      ]
     },
     "execution_count": 2,
     "metadata": {},
     "output_type": "execute_result"
    }
   ],
   "source": [
    "import pandas as pd\n",
    "import yaml\n",
    "\n",
    "with open('/Users/giogi/Desktop/Stage INFN/PID ITS/ITS_Cluster_Studies/PID ITS - Giorgio Alberto/code/configs/config.yml') as f:\n",
    "    config = yaml.load(f, Loader=yaml.FullLoader)\n",
    "\n",
    "path = config['input']['data']\n",
    "df = pd.read_parquet(path)\n",
    "\n",
    "df.columns"
   ]
  },
  {
   "cell_type": "code",
   "execution_count": 7,
   "metadata": {},
   "outputs": [
    {
     "data": {
      "text/plain": [
       "False"
      ]
     },
     "execution_count": 7,
     "metadata": {},
     "output_type": "execute_result"
    }
   ],
   "source": [
    "import pandas as pd\n",
    "path = '/Users/giogi/Desktop/Stage INFN/PID ITS/data/V0/particles_pid_520147.parquet'\n",
    "df = pd.read_parquet(path)\n",
    "df.particle.isna().any()"
   ]
  },
  {
   "cell_type": "code",
   "execution_count": 8,
   "metadata": {},
   "outputs": [
    {
     "data": {
      "text/plain": [
       "count    469369.000000\n",
       "mean          0.888691\n",
       "std           1.195895\n",
       "min           0.003675\n",
       "25%           0.421506\n",
       "50%           0.571466\n",
       "75%           1.051295\n",
       "max         202.171112\n",
       "Name: p, dtype: float64"
      ]
     },
     "execution_count": 8,
     "metadata": {},
     "output_type": "execute_result"
    }
   ],
   "source": [
    "import pandas as pd\n",
    "path = '/Users/giogi/Desktop/Stage INFN/PID ITS/data/V0/particles_pid_520143.parquet'\n",
    "df = pd.read_parquet(path)\n",
    "df.columns\n",
    "df.p.describe()"
   ]
  },
  {
   "cell_type": "code",
   "execution_count": null,
   "metadata": {},
   "outputs": [],
   "source": []
  }
 ],
 "metadata": {
  "kernelspec": {
   "display_name": "Python 3.9.0 64-bit",
   "language": "python",
   "name": "python3"
  },
  "language_info": {
   "codemirror_mode": {
    "name": "ipython",
    "version": 3
   },
   "file_extension": ".py",
   "mimetype": "text/x-python",
   "name": "python",
   "nbconvert_exporter": "python",
   "pygments_lexer": "ipython3",
   "version": "3.9.0"
  },
  "orig_nbformat": 4,
  "vscode": {
   "interpreter": {
    "hash": "aee8b7b246df8f9039afb4144a1f6fd8d2ca17a180786b69acc140d282b71a49"
   }
  }
 },
 "nbformat": 4,
 "nbformat_minor": 2
}
